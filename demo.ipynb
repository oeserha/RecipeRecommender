{
 "cells": [
  {
   "cell_type": "markdown",
   "id": "b7c5fb0f-829e-4faf-b68b-7096985054af",
   "metadata": {},
   "source": [
    "# Demo parts of Recipe Recommender"
   ]
  },
  {
   "cell_type": "markdown",
   "id": "5409d2a7-2fb2-465e-8667-ec20c7e42932",
   "metadata": {},
   "source": [
    "Contents:\n",
    "* Get sample of recipe data from S3\n",
    "* Show test request\n",
    "* Get model endpoint (most recent version from group)\n",
    "* Create request embedding\n",
    "* Get top 5 results from Vector DB\n",
    "\n",
    "Note: this does not include every part of our E2E system, but includes some of the highlights of where some of our data is stored, information we include along the way, and different components that help get us to our result."
   ]
  },
  {
   "cell_type": "markdown",
   "id": "e08ea6d0-5731-453a-a6c5-90294de0f138",
   "metadata": {},
   "source": [
    "### Getting the data\n",
    "\n",
    "Our primary dataset is our list of recipes and associated information. We got this [dataset from Kaggle](https://www.kaggle.com/datasets/irkaal/foodcom-recipes-and-reviews) and it includes over 500,000 recipes. To help with scaling in our system, we chose to use a subset of 1,000 recipes to test the design.\n",
    "\n",
    "As part of our system, we have the raw data uploaded to S3 and a lambda function that does all our data preprocessing. A sample of our final recipe data is below."
   ]
  },
  {
   "cell_type": "code",
   "execution_count": 1,
   "id": "20c3a25f-84fe-4e7e-a23a-d9bf0cedfc4e",
   "metadata": {},
   "outputs": [
    {
     "name": "stderr",
     "output_type": "stream",
     "text": [
      "/tmp/ipykernel_140/1371917451.py:4: DtypeWarning: Columns (5,6) have mixed types. Specify dtype option on import or set low_memory=False.\n",
      "  full_data = pd.read_csv(uri)\n"
     ]
    },
    {
     "data": {
      "text/html": [
       "<div>\n",
       "<style scoped>\n",
       "    .dataframe tbody tr th:only-of-type {\n",
       "        vertical-align: middle;\n",
       "    }\n",
       "\n",
       "    .dataframe tbody tr th {\n",
       "        vertical-align: top;\n",
       "    }\n",
       "\n",
       "    .dataframe thead th {\n",
       "        text-align: right;\n",
       "    }\n",
       "</style>\n",
       "<table border=\"1\" class=\"dataframe\">\n",
       "  <thead>\n",
       "    <tr style=\"text-align: right;\">\n",
       "      <th></th>\n",
       "      <th>RecipeId</th>\n",
       "      <th>Name</th>\n",
       "      <th>AuthorId</th>\n",
       "      <th>AuthorName</th>\n",
       "      <th>CookTime</th>\n",
       "      <th>PrepTime</th>\n",
       "      <th>TotalTime</th>\n",
       "      <th>DatePublished</th>\n",
       "      <th>Description</th>\n",
       "      <th>Images</th>\n",
       "      <th>...</th>\n",
       "      <th>SodiumContent</th>\n",
       "      <th>CarbohydrateContent</th>\n",
       "      <th>FiberContent</th>\n",
       "      <th>SugarContent</th>\n",
       "      <th>ProteinContent</th>\n",
       "      <th>RecipeServings</th>\n",
       "      <th>RecipeYield</th>\n",
       "      <th>RecipeInstructions</th>\n",
       "      <th>EmbeddingSentence</th>\n",
       "      <th>AverageRating</th>\n",
       "    </tr>\n",
       "  </thead>\n",
       "  <tbody>\n",
       "    <tr>\n",
       "      <th>0</th>\n",
       "      <td>38</td>\n",
       "      <td>Low-Fat Berry Blue Frozen Dessert</td>\n",
       "      <td>1533</td>\n",
       "      <td>Dancer</td>\n",
       "      <td>24.000000</td>\n",
       "      <td>0.75</td>\n",
       "      <td>24.75</td>\n",
       "      <td>1999-08-09T21:46:00Z</td>\n",
       "      <td>Make and share this Low-Fat Berry Blue Frozen ...</td>\n",
       "      <td>['https://img.sndimg.com/food/image/upload/w_5...</td>\n",
       "      <td>...</td>\n",
       "      <td>29.8</td>\n",
       "      <td>37.1</td>\n",
       "      <td>3.6</td>\n",
       "      <td>30.2</td>\n",
       "      <td>3.2</td>\n",
       "      <td>4.0</td>\n",
       "      <td>NaN</td>\n",
       "      <td>['Toss 2 cups berries with sugar.', 'Let stand...</td>\n",
       "      <td>Dessert Low Protein Low Cholesterol Healthy Fr...</td>\n",
       "      <td>4.250000</td>\n",
       "    </tr>\n",
       "    <tr>\n",
       "      <th>1</th>\n",
       "      <td>39</td>\n",
       "      <td>Biryani</td>\n",
       "      <td>1567</td>\n",
       "      <td>elly9812</td>\n",
       "      <td>0.416667</td>\n",
       "      <td>4.0</td>\n",
       "      <td>4.416667</td>\n",
       "      <td>1999-08-29T13:12:00Z</td>\n",
       "      <td>Make and share this Biryani recipe from Food.com.</td>\n",
       "      <td>['https://img.sndimg.com/food/image/upload/w_5...</td>\n",
       "      <td>...</td>\n",
       "      <td>368.4</td>\n",
       "      <td>84.4</td>\n",
       "      <td>9.0</td>\n",
       "      <td>20.4</td>\n",
       "      <td>63.4</td>\n",
       "      <td>6.0</td>\n",
       "      <td>NaN</td>\n",
       "      <td>['Soak saffron in warm milk for 5 minutes and ...</td>\n",
       "      <td>Chicken Thigh &amp; Leg Chicken Poultry Meat Asian...</td>\n",
       "      <td>3.000000</td>\n",
       "    </tr>\n",
       "    <tr>\n",
       "      <th>2</th>\n",
       "      <td>40</td>\n",
       "      <td>Best Lemonade</td>\n",
       "      <td>1566</td>\n",
       "      <td>Stephen Little</td>\n",
       "      <td>0.083333</td>\n",
       "      <td>0.5</td>\n",
       "      <td>0.583333</td>\n",
       "      <td>1999-09-05T19:52:00Z</td>\n",
       "      <td>This is from one of my  first Good House Keepi...</td>\n",
       "      <td>['https://img.sndimg.com/food/image/upload/w_5...</td>\n",
       "      <td>...</td>\n",
       "      <td>1.8</td>\n",
       "      <td>81.5</td>\n",
       "      <td>0.4</td>\n",
       "      <td>77.2</td>\n",
       "      <td>0.3</td>\n",
       "      <td>4.0</td>\n",
       "      <td>NaN</td>\n",
       "      <td>['Into a 1 quart Jar with tight fitting lid, p...</td>\n",
       "      <td>Low Protein Low Cholesterol Healthy Summer &lt; 6...</td>\n",
       "      <td>4.333333</td>\n",
       "    </tr>\n",
       "    <tr>\n",
       "      <th>3</th>\n",
       "      <td>41</td>\n",
       "      <td>Carina's Tofu-Vegetable Kebabs</td>\n",
       "      <td>1586</td>\n",
       "      <td>Cyclopz</td>\n",
       "      <td>0.333333</td>\n",
       "      <td>24.0</td>\n",
       "      <td>24.333333</td>\n",
       "      <td>1999-09-03T14:54:00Z</td>\n",
       "      <td>This dish is best prepared a day in advance to...</td>\n",
       "      <td>['https://img.sndimg.com/food/image/upload/w_5...</td>\n",
       "      <td>...</td>\n",
       "      <td>1558.6</td>\n",
       "      <td>64.2</td>\n",
       "      <td>17.3</td>\n",
       "      <td>32.1</td>\n",
       "      <td>29.3</td>\n",
       "      <td>2.0</td>\n",
       "      <td>4 kebabs</td>\n",
       "      <td>['Drain the tofu, carefully squeezing out exce...</td>\n",
       "      <td>Beans Vegetable Low Cholesterol Weeknight Broi...</td>\n",
       "      <td>4.500000</td>\n",
       "    </tr>\n",
       "    <tr>\n",
       "      <th>4</th>\n",
       "      <td>42</td>\n",
       "      <td>Cabbage Soup</td>\n",
       "      <td>1538</td>\n",
       "      <td>Duckie067</td>\n",
       "      <td>0.500000</td>\n",
       "      <td>0.333333</td>\n",
       "      <td>0.833333</td>\n",
       "      <td>1999-09-19T06:19:00Z</td>\n",
       "      <td>Make and share this Cabbage Soup recipe from F...</td>\n",
       "      <td>\"https://img.sndimg.com/food/image/upload/w_55...</td>\n",
       "      <td>...</td>\n",
       "      <td>959.3</td>\n",
       "      <td>25.1</td>\n",
       "      <td>4.8</td>\n",
       "      <td>17.7</td>\n",
       "      <td>4.3</td>\n",
       "      <td>4.0</td>\n",
       "      <td>NaN</td>\n",
       "      <td>['Mix everything together and bring to a boil....</td>\n",
       "      <td>Low Protein Vegan Low Cholesterol Healthy Wint...</td>\n",
       "      <td>2.666667</td>\n",
       "    </tr>\n",
       "  </tbody>\n",
       "</table>\n",
       "<p>5 rows × 30 columns</p>\n",
       "</div>"
      ],
      "text/plain": [
       "   RecipeId                               Name  AuthorId      AuthorName  \\\n",
       "0        38  Low-Fat Berry Blue Frozen Dessert      1533          Dancer   \n",
       "1        39                            Biryani      1567        elly9812   \n",
       "2        40                      Best Lemonade      1566  Stephen Little   \n",
       "3        41     Carina's Tofu-Vegetable Kebabs      1586         Cyclopz   \n",
       "4        42                       Cabbage Soup      1538       Duckie067   \n",
       "\n",
       "    CookTime  PrepTime  TotalTime         DatePublished  \\\n",
       "0  24.000000      0.75      24.75  1999-08-09T21:46:00Z   \n",
       "1   0.416667       4.0   4.416667  1999-08-29T13:12:00Z   \n",
       "2   0.083333       0.5   0.583333  1999-09-05T19:52:00Z   \n",
       "3   0.333333      24.0  24.333333  1999-09-03T14:54:00Z   \n",
       "4   0.500000  0.333333   0.833333  1999-09-19T06:19:00Z   \n",
       "\n",
       "                                         Description  \\\n",
       "0  Make and share this Low-Fat Berry Blue Frozen ...   \n",
       "1  Make and share this Biryani recipe from Food.com.   \n",
       "2  This is from one of my  first Good House Keepi...   \n",
       "3  This dish is best prepared a day in advance to...   \n",
       "4  Make and share this Cabbage Soup recipe from F...   \n",
       "\n",
       "                                              Images  ... SodiumContent  \\\n",
       "0  ['https://img.sndimg.com/food/image/upload/w_5...  ...          29.8   \n",
       "1  ['https://img.sndimg.com/food/image/upload/w_5...  ...         368.4   \n",
       "2  ['https://img.sndimg.com/food/image/upload/w_5...  ...           1.8   \n",
       "3  ['https://img.sndimg.com/food/image/upload/w_5...  ...        1558.6   \n",
       "4  \"https://img.sndimg.com/food/image/upload/w_55...  ...         959.3   \n",
       "\n",
       "  CarbohydrateContent FiberContent SugarContent  ProteinContent  \\\n",
       "0                37.1          3.6         30.2             3.2   \n",
       "1                84.4          9.0         20.4            63.4   \n",
       "2                81.5          0.4         77.2             0.3   \n",
       "3                64.2         17.3         32.1            29.3   \n",
       "4                25.1          4.8         17.7             4.3   \n",
       "\n",
       "   RecipeServings  RecipeYield  \\\n",
       "0             4.0          NaN   \n",
       "1             6.0          NaN   \n",
       "2             4.0          NaN   \n",
       "3             2.0     4 kebabs   \n",
       "4             4.0          NaN   \n",
       "\n",
       "                                  RecipeInstructions  \\\n",
       "0  ['Toss 2 cups berries with sugar.', 'Let stand...   \n",
       "1  ['Soak saffron in warm milk for 5 minutes and ...   \n",
       "2  ['Into a 1 quart Jar with tight fitting lid, p...   \n",
       "3  ['Drain the tofu, carefully squeezing out exce...   \n",
       "4  ['Mix everything together and bring to a boil....   \n",
       "\n",
       "                                   EmbeddingSentence  AverageRating  \n",
       "0  Dessert Low Protein Low Cholesterol Healthy Fr...       4.250000  \n",
       "1  Chicken Thigh & Leg Chicken Poultry Meat Asian...       3.000000  \n",
       "2  Low Protein Low Cholesterol Healthy Summer < 6...       4.333333  \n",
       "3  Beans Vegetable Low Cholesterol Weeknight Broi...       4.500000  \n",
       "4  Low Protein Vegan Low Cholesterol Healthy Wint...       2.666667  \n",
       "\n",
       "[5 rows x 30 columns]"
      ]
     },
     "execution_count": 1,
     "metadata": {},
     "output_type": "execute_result"
    }
   ],
   "source": [
    "import pandas as pd\n",
    "\n",
    "uri = \"s3://cs401r-mlops-final/preprocessed-data/preprocessed_data.csv\"\n",
    "full_data = pd.read_csv(uri)\n",
    "\n",
    "full_data.head()"
   ]
  },
  {
   "cell_type": "markdown",
   "id": "5a4a1f4c-2ff5-4117-a3db-2f2f2f80df18",
   "metadata": {},
   "source": [
    "Additional information that is vital to our system is user information and requests. For the purposes of this demo, we are excluding the user request information which is primarily used for filtering out recipes with allergies for the user so we make sure they are not considered. Below is a test request for a recipe."
   ]
  },
  {
   "cell_type": "code",
   "execution_count": 6,
   "id": "414e2b82-3150-48de-b3f0-d002f5a980a2",
   "metadata": {},
   "outputs": [],
   "source": [
    "import boto3\n",
    "import json\n",
    "\n",
    "bucket = \"cs401r-mlops-final\"\n",
    "json_key = \"raw-data/test_request.txt\"\n",
    "\n",
    "s3 = boto3.client(\"s3\")\n",
    "\n",
    "json_response = s3.get_object(Bucket=bucket, Key=json_key)\n",
    "json_body = json_response['Body'].read().decode('utf-8')\n",
    "dict_request = json.loads(json_body)\n",
    "\n",
    "query = str(dict_request.get('request'))"
   ]
  },
  {
   "cell_type": "code",
   "execution_count": 4,
   "id": "1cb7e8c8-06dc-47a2-850c-100646fc045d",
   "metadata": {},
   "outputs": [
    {
     "name": "stdout",
     "output_type": "stream",
     "text": [
      "{'user': {'username': 'josh_phelps23', 'allergies': ['peanuts', 'shellfish'], 'likes': ['chicken', 'avocado', 'rice'], 'dislikes': ['mushrooms', 'blue cheese'], 'macros': {'protein': 'high', 'carbs': 'medium', 'fats': 'low'}, 'recipes_tried': [{'recipe_id': 23891, 'rating': '5'}, {'recipe_id': 10485, 'rating': '3'}, {'recipe_id': 78652, 'rating': '1'}]}, 'request': {'ingredients_available': ['chicken', 'brown rice', 'broccoli', 'garlic'], 'max_time_minutes': 30, 'meal_type': 'Dinner', 'preferences': {'spice_level': 'medium', 'diet_type': 'gluten-free'}}}\n"
     ]
    }
   ],
   "source": [
    "print(dict_request)"
   ]
  },
  {
   "cell_type": "markdown",
   "id": "6cd245f6-58c8-43eb-8afe-7471778fabfc",
   "metadata": {},
   "source": [
    "### Setting up Model & Embedding\n",
    "\n",
    "We use our model to create an embedding for the incoming request. We chose our model based on which model is able to find a result most similar to the incoming request as well as a score based on the time the model takes to find the result. We included the time factor so that as we scale our system, it will process requests quickly.\n",
    "\n",
    "We include our model in the group \"recipe-recommender-models\" and use the current version as the endpoint for our UI. It will generate the embedding to be used for comparison to the recipes"
   ]
  },
  {
   "cell_type": "code",
   "execution_count": null,
   "id": "b8c1887e-8dee-4cd7-b547-d12f31347ad6",
   "metadata": {},
   "outputs": [],
   "source": [
    "!pip install sentence-transformers\n",
    "!pip install pinecone"
   ]
  },
  {
   "cell_type": "code",
   "execution_count": null,
   "id": "f8d3490f-b879-44ac-825e-4f72fa8bb070",
   "metadata": {},
   "outputs": [
    {
     "name": "stdout",
     "output_type": "stream",
     "text": [
      "all-MiniLM-L6-v2-endpoint-12\n"
     ]
    }
   ],
   "source": [
    "from monitoring.model_management import GetEndpointName\n",
    "group_name = \"recipe-recommender-models\"\n",
    "endpoint_name = GetEndpointName(group_name)\n",
    "print(endpoint_name)"
   ]
  },
  {
   "cell_type": "code",
   "execution_count": 7,
   "id": "23ecf85a-52a7-4635-8ac1-85356ccf4915",
   "metadata": {},
   "outputs": [
    {
     "name": "stdout",
     "output_type": "stream",
     "text": [
      "384\n"
     ]
    }
   ],
   "source": [
    "import torch\n",
    "\n",
    "request = json.dumps({\"inputs\": query})\n",
    "client = boto3.client(\"sagemaker-runtime\")\n",
    "\n",
    "response = client.invoke_endpoint(\n",
    "    EndpointName=endpoint_name,\n",
    "    ContentType=\"application/json\",\n",
    "    Body=request\n",
    ")\n",
    "\n",
    "embedding = json.loads(response[\"Body\"].read().decode(\"utf-8\"))\n",
    "token_embeddings = torch.tensor(embedding).squeeze()\n",
    "sentence_embedding = token_embeddings.max(dim=0)[0].detach().tolist()\n",
    "\n",
    "print(len(sentence_embedding))"
   ]
  },
  {
   "cell_type": "markdown",
   "id": "e7ac1b65-7929-48df-8e22-ea719a808672",
   "metadata": {},
   "source": [
    "### Sending Request\n",
    "\n",
    "After generating the request embedding, we find the closest match to the recipe database we have. An example of the UI is shown below, which would normally be used to create and send the request:"
   ]
  },
  {
   "cell_type": "markdown",
   "id": "8d8de83c-e1a9-4548-b514-8340537453ae",
   "metadata": {},
   "source": [
    "![Example of UI input screen](input_example.png \"\")"
   ]
  },
  {
   "cell_type": "markdown",
   "id": "34ec7ca4-227f-430c-9c9e-55fe85ca277c",
   "metadata": {},
   "source": [
    "The vector database logs the embeddings using the recipe ID, and includes key features in the meta data such as the recipe name, ingredient list, and instructions. Here we'll get the top 5 related recipes to our request and print the IDs of the recipes, including the top related recipe. "
   ]
  },
  {
   "cell_type": "code",
   "execution_count": 13,
   "id": "361d516e-f5ed-47a5-afb8-efc283ff36b8",
   "metadata": {},
   "outputs": [],
   "source": [
    "from pinecone import Pinecone\n",
    "\n",
    "# Replace with Pinecone API key\n",
    "PINECONE_API_KEY = \"pcsk_422pfD_Md475J4UU75vyUtvvbt18F8qQ4HPaXQ8ALaqzQHbXkwhV1wjdewEWoj7fDiUHhy\"\n",
    "pc_api_key =PINECONE_API_KEY\n",
    "pc = Pinecone(api_key=pc_api_key)\n",
    "\n",
    "index = pc.Index(\"recipe-recommendations\")\n",
    "query_vector = sentence_embedding\n",
    "\n",
    "result = index.query(\n",
    "    vector=query_vector,\n",
    "    top_k=5,\n",
    "    include_metadata=True,\n",
    "    # include_values=True\n",
    ")\n",
    "\n",
    "ids = []\n",
    "for i in range(5):\n",
    "    ids.append(result.get('matches')[i].get('id'))\n",
    "\n",
    "recipe_id = result.get('matches')[0].get('id')"
   ]
  },
  {
   "cell_type": "code",
   "execution_count": 15,
   "id": "d93ef7db-fd95-4647-8dbe-5067c2862aed",
   "metadata": {},
   "outputs": [
    {
     "name": "stdout",
     "output_type": "stream",
     "text": [
      "Top Recipe ID: 316\n",
      "All top recipe IDs: ['316', '451', '525', '667', '1857']\n"
     ]
    }
   ],
   "source": [
    "print(f\"Top Recipe ID: {recipe_id}\")\n",
    "print(f\"All top recipe IDs: {ids}\")"
   ]
  },
  {
   "cell_type": "markdown",
   "id": "722fbd95-e572-4041-878f-0b5a2ab1675a",
   "metadata": {},
   "source": [
    "### Returning Recipe Info\n",
    "\n",
    "The final data returned to our UI needs to be in a format that is easy for users to follow and use for their meals! We'll show the raw output below of our top match, but our UI formats our results in a much cleaner output. An example of this is shown here!\n",
    "\n",
    "![Example of UI Output](output_example.png)"
   ]
  },
  {
   "cell_type": "code",
   "execution_count": 22,
   "id": "bd37e2b0-d302-4862-8871-7c9cfae7b21e",
   "metadata": {},
   "outputs": [
    {
     "data": {
      "text/plain": [
       "{'id': '316',\n",
       " 'metadata': {'amounts': \"['olive oil', 'olive oil', 'onion', 'garlic', 'long \"\n",
       "                         \"grain white rice', 'cumin', 'canned chicken broth', \"\n",
       "                         \"'currants', 'pine nuts', 'fresh parsley', 'of fresh \"\n",
       "                         \"mint', 'grape leaves', 'plain yogurt', 'of fresh \"\n",
       "                         \"mint', 'garlic', 'lemon wedge']\",\n",
       "              'cook_time': '1.5166666666666666',\n",
       "              'description': 'Make and share this Dolmades with Yogurt-Mint '\n",
       "                             'Sauce recipe from Food.com.',\n",
       "              'ingredients': \"['1/4', '3', '1', '3', '1', '1 1/2', '4', '1/3', \"\n",
       "                             \"'1/3', '1/3', '1/4', '1', '1', '1/4', '1']\",\n",
       "              'instructions': \"['FOR GRAPE LEAVES:', 'Heat 1/4 cup oil in \"\n",
       "                              'heavy medium saucepan over medium low heat. '\n",
       "                              'Add  onion and garlic. Saute until very tender, '\n",
       "                              \"about 10 minutes.', 'Add  rice and cumin and \"\n",
       "                              \"stir 1 minute. Add 2 cups broth and currants.', \"\n",
       "                              \"'Cover and simmer until rice is tender and \"\n",
       "                              \"liquid is absorbed, about  20 minutes.', \"\n",
       "                              \"'Transfer to bowl.', 'Mix in nuts, parsley and \"\n",
       "                              \"mint. Season  with salt and pepper.', 'Cool \"\n",
       "                              \"completely.', '(Can be made I day ahead. Cover; \"\n",
       "                              \"chill.)', 'Place grape leaves in bowl.', 'Cover \"\n",
       "                              \"with cold water and let stand 30  minutes.', \"\n",
       "                              \"'Drain.', '(Cut off stems.', 'Arrange 1 leaf \"\n",
       "                              'veined side up on  work surface. Place 1 '\n",
       "                              'rounded Tbsp of rice filling on stem end,  '\n",
       "                              \"leaving 1/2-inch border.', 'Fold 2 short sides \"\n",
       "                              'over rice, then roll up  starting at stem '\n",
       "                              \"end.', 'Repeat with remaining leaves and \"\n",
       "                              \"filling.', 'Place seam in side down in 2 heavy \"\n",
       "                              \"12-inch skillets.', 'Divide  remaining 3 Tbsp \"\n",
       "                              \"oil and 2 cups broth between skillets.', \"\n",
       "                              \"'Cover;  simmer over medium-low heat until \"\n",
       "                              \"liquid is absorbed, about 30  minutes.', \"\n",
       "                              \"'Uncover and let rolls cool.', 'Transfer to \"\n",
       "                              \"platter.', 'Cover and  chill.', '(Can be made 1 \"\n",
       "                              'day ahead.)   FOR SAUCE:  Combine yogurt, mint, '\n",
       "                              \"and garlic in small bowl.', 'Season to taste \"\n",
       "                              \"with  salt and pepper.', 'Place grape leaf \"\n",
       "                              \"rolls on platter and garnish with lemon.', \"\n",
       "                              \"'Serve with  sauce.  These rice-filled grape \"\n",
       "                              \"leaves are a classic Greek appetizer.']\",\n",
       "              'prep_time': '1.8333333333333333',\n",
       "              'recipe_id': '316',\n",
       "              'recipe_name': 'Dolmades with Yogurt-Mint Sauce',\n",
       "              'units': 'nan'},\n",
       " 'score': 0.167209685,\n",
       " 'values': []}"
      ]
     },
     "execution_count": 22,
     "metadata": {},
     "output_type": "execute_result"
    }
   ],
   "source": [
    "# NOTE: this is a different recipe than the one above because it was using a different request!\n",
    "result.get('matches')[0]"
   ]
  },
  {
   "cell_type": "markdown",
   "id": "85066f98-6377-4933-a920-227ae1e994a5",
   "metadata": {},
   "source": [
    "And that's the end of our demo! We hope this shows you some of the basics of how we created our recipe recommender system!"
   ]
  }
 ],
 "metadata": {
  "kernelspec": {
   "display_name": "Python 3 (ipykernel)",
   "language": "python",
   "name": "python3"
  },
  "language_info": {
   "codemirror_mode": {
    "name": "ipython",
    "version": 3
   },
   "file_extension": ".py",
   "mimetype": "text/x-python",
   "name": "python",
   "nbconvert_exporter": "python",
   "pygments_lexer": "ipython3",
   "version": "3.12.9"
  }
 },
 "nbformat": 4,
 "nbformat_minor": 5
}
